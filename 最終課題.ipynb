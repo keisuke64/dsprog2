{
 "cells": [
  {
   "cell_type": "markdown",
   "metadata": {},
   "source": [
    "### 必要なライブラリのインストール"
   ]
  },
  {
   "cell_type": "code",
   "execution_count": 24,
   "metadata": {},
   "outputs": [],
   "source": [
    "from bs4 import BeautifulSoup\n",
    "import pandas as pd\n",
    "import sqlite3\n",
    "import requests"
   ]
  },
  {
   "cell_type": "markdown",
   "metadata": {},
   "source": [
    "### URLを指定しスクレイピング"
   ]
  },
  {
   "cell_type": "code",
   "execution_count": 25,
   "metadata": {},
   "outputs": [],
   "source": [
    "res = requests.get('https://www.tourism.jp/tourism-database/stats/outbound/#monthly-ports')\n",
    "soup = BeautifulSoup(res.text, 'html.parser')"
   ]
  },
  {
   "cell_type": "code",
   "execution_count": 26,
   "metadata": {},
   "outputs": [],
   "source": [
    "# 空港名取得\n",
    "airport_tags = soup.find_all(\"th\", {\"rowspan\": \"2\"})\n",
    "airports = [tag.text for tag in airport_tags]\n",
    "\n",
    "# 値取得\n",
    "value_tags = soup.find('table', {\"class\": \"table_airports\"}).find_all('td')\n",
    "# 値のリスト作成\n",
    "values = [tag.text for tag in value_tags]\n",
    "# 空港ごとの値に分割\n",
    "values_per_airport = [values[i::len(airports)] for i in range(len(airports))]\n",
    "\n",
    "# 各空港に12個の値が紐づいていることを前提に、値を空港ごとに分割\n",
    "num_values_per_airport = 12  # 各空港の値の数\n",
    "values_per_airport = [values[i:i + num_values_per_airport] \n",
    "                      for i in range(0, len(values), num_values_per_airport)]"
   ]
  },
  {
   "cell_type": "markdown",
   "metadata": {},
   "source": [
    "### データフレーム作成とデータベースへ保存"
   ]
  },
  {
   "cell_type": "code",
   "execution_count": 27,
   "metadata": {},
   "outputs": [],
   "source": [
    "# DataFrame作成\n",
    "# values_per_airportの転置を行う前に、行と列の数を一致させる\n",
    "df = pd.DataFrame(values_per_airport, columns=[f'{i}' for i in range(num_values_per_airport)]).T  \n",
    "# 列名を空港名に設定\n",
    "df.columns = airports[:len(df.columns)]  # 列数が空港数を超えないように調整\n",
    "\n",
    "# SQLiteに保存\n",
    "conn = sqlite3.connect('scrapped_data.db')\n",
    "df.to_sql('airports', conn, if_exists='replace', index_label='month')\n",
    "conn.close()"
   ]
  },
  {
   "cell_type": "markdown",
   "metadata": {},
   "source": [
    "### データベースへ接続"
   ]
  },
  {
   "cell_type": "code",
   "execution_count": 28,
   "metadata": {},
   "outputs": [
    {
     "name": "stdout",
     "output_type": "stream",
     "text": [
      "   month  新千歳CTS 東京/成田NRT 東京/羽田HND   中部NGO    関西KIX   福岡FUK 博多港HKP   那覇OKA\n",
      "0      6   6,572  264,916  330,408  56,592  171,879  52,616  3,802   5,662\n",
      "1      7   4,074  323,826  370,668  62,327  193,174  53,953  1,463   5,481\n",
      "2      8   7,587  466,522  458,222  87,662  276,060  82,196  2,853   7,657\n",
      "3      9  10,307  376,694  405,953  69,382  228,387  65,954  1,065   7,576\n",
      "4     10  12,188  340,575  377,669  74,126  215,352  68,877  1,717   7,974\n",
      "5     11  13,421  346,189  373,809  79,456  223,427  71,058  1,882  10,546\n",
      "6      6    +68%    -2.9%    +0.6%  +26.5%   +11.2%   +7.8%    +0%     +0%\n",
      "7      7  +15.4%   -16.7%    -9.2%   +1.1%    -9.9%  -25.2%    +0%     +0%\n",
      "8      8  +23.3%   +49.6%   +26.7%    +73%   +55.6%  +45.6%    +0%     +0%\n",
      "9      9  +35.8%   +37.4%   +21.1%  +27.3%   +40.1%  +20.8%    +0%     +0%\n",
      "10    10  +59.1%   +11.8%    +6.8%  +16.6%   +16.4%  +10.8%    +0%     +0%\n",
      "11    11  +30.5%   +17.4%   +18.2%  +35.2%   +26.2%  +34.7%    +0%     +0%\n"
     ]
    }
   ],
   "source": [
    "# データベースに接続\n",
    "conn = sqlite3.connect('scrapped_data.db')\n",
    "\n",
    "# 'airports'テーブルからデータを取得\n",
    "df = pd.read_sql_query(\"SELECT * from airports\", conn)\n",
    "df['month'] = ['6', '7', '8', '9', '10', '11', '6', '7', '8', '9', '10', '11']\n",
    "\n",
    "\n",
    "# 結果を表示\n",
    "print(df)\n",
    "\n",
    "# データベース接続を閉じる\n",
    "conn.close()"
   ]
  }
 ],
 "metadata": {
  "kernelspec": {
   "display_name": ".venv",
   "language": "python",
   "name": "python3"
  },
  "language_info": {
   "codemirror_mode": {
    "name": "ipython",
    "version": 3
   },
   "file_extension": ".py",
   "mimetype": "text/x-python",
   "name": "python",
   "nbconvert_exporter": "python",
   "pygments_lexer": "ipython3",
   "version": "3.12.7"
  }
 },
 "nbformat": 4,
 "nbformat_minor": 2
}
